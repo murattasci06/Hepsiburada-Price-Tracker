{
 "cells": [
  {
   "cell_type": "code",
   "execution_count": null,
   "id": "5017d221-1263-4d38-ba2d-b420d06a92f7",
   "metadata": {},
   "outputs": [],
   "source": [
    "# libraries\n",
    "import pandas as pd\n",
    "from selenium import webdriver\n",
    "from selenium.webdriver.common.by import By\n",
    "from selenium.webdriver.common.keys import Keys\n",
    "from selenium.webdriver.support.ui import WebDriverWait\n",
    "from selenium.webdriver.support import expected_conditions as EC\n",
    "import time\n",
    "import matplotlib.pyplot as plt\n",
    "from time import sleep\n",
    "import inspect\n",
    "import os\n",
    "from bs4 import BeautifulSoup\n",
    "import requests\n",
    "\n",
    "# Get the search term and tracking period from the user\n",
    "search_term = input(\"Please enter the name of the product you want to search: \")\n",
    "months =input(\"Please enter the number of months you want to track the product: \")\n",
    "\n",
    "# To ensure that the user enters a non-string value \n",
    "while not months.isdigit():\n",
    "    print(\"Warning: Please enter a valid integer value for the number of months.\")\n",
    "    months = input(\"Please enter the number of months you want to track the product: \")\n",
    "months = int(months)\n",
    "\n",
    "# Start the web driver and go to the Hepsiburada homepage\n",
    "chrome_options = webdriver.ChromeOptions()\n",
    "prefs = {\"profile.default_content_setting_values.notifications\" : 2}\n",
    "chrome_options.add_experimental_option(\"prefs\",prefs)\n",
    "\n",
    "\n",
    "module_path=\"C:/Users/murat/Desktop/hepsiburada_price_tracker/chromedriver.exe\"\n",
    "\n",
    "driver = webdriver.Chrome(executable_path=module_path,options=chrome_options)\n",
    "driver.maximize_window()\n",
    "driver.get(\"https://www.hepsiburada.com/\")\n",
    "\n",
    "# Accept cookies\n",
    "driver.find_element_by_id('onetrust-accept-btn-handler').click()\n",
    "sleep(3)\n",
    "\n",
    "\n",
    "\n",
    "# Enter the search term in the search box and press Enter\n",
    "wait = WebDriverWait(driver, 15)\n",
    "search_box = wait.until(EC.element_to_be_clickable((By.CLASS_NAME, 'theme-IYtZzqYPto8PhOx3ku3c')))\n",
    "\n",
    "search_box.send_keys(search_term)\n",
    "search_box.send_keys(Keys.RETURN)\n",
    "\n",
    "# Wait for search results and select the first product\n",
    "sleep(3)  # Sayfanın yüklenmesi için birkaç saniye bekleyin\n",
    "\n",
    "# Click on the order button\n",
    "driver.find_element_by_class_name('horizontalSortingBar-Ce404X9mUYVCRa5bjV4D').click()\n",
    "sleep(3)\n",
    "\n",
    "# Sort by increasing price\n",
    "driver.find_element_by_class_name('horizontalSortingBar-PkoDOH7UsCwBrQaQx9bn').click()\n",
    "sleep(3)\n",
    "\n",
    "# Get the link, name, and price of the first product in the search results\n",
    "results = driver.find_elements_by_xpath(\"//h3[@data-test-id='product-card-name']\")\n",
    "if not results:\n",
    "    print(\"Sorry, we could not find the product you were looking for.\")\n",
    "    #driver.quit()\n",
    "else:\n",
    "    first_result0 = results[0]\n",
    "    first_result= first_result0.text\n",
    "    print(first_result)\n",
    "    product_link = first_result.find_element(By.XPATH, \".//a[@data-productid]\")\n",
    "    product_url = product_link.get_attribute(\"href\")\n",
    "    product_name = first_result.find_element(By.XPATH, \".//h3\").text\n",
    "    print(\"The product selected from the search results is {}: {}\".format(product_name, product_url))\n",
    "\n",
    "\n"
   ]
  },
  {
   "cell_type": "code",
   "execution_count": null,
   "id": "f54675e3-825d-4dc4-80d2-4fde2730bc7e",
   "metadata": {},
   "outputs": [],
   "source": [
    "# Seçilen ürün sayfasına gidin\n",
    "driver.get(product_url)\n",
    "\n",
    "# Fiyatları alın\n",
    "prices = []\n",
    "dates = []\n",
    "while len(prices) < months:\n",
    "    price_elems = driver.find_elements(By.XPATH, \"//div[@class='price-area']//strong[@itemprop='price']\")\n",
    "    date_elems = driver.find_elements(By.XPATH, \"//div[@class='product-info']//span[@class='product-info-date']\")\n",
    "    \n",
    "    for price_elem, date_elem in zip(price_elems, date_elems):\n",
    "        price = float(price_elem.text.replace('.', '').replace(',', '.'))\n",
    "        date = pd.to_datetime(date_elem.text, format='%d %B %Y')\n",
    "        prices.append(price)\n",
    "        dates.append(date)\n",
    "        \n",
    "    next_button = driver.find_element(By.XPATH, \"//a[@class='page-next']\")\n",
    "    if 'disabled' in next_button.get_attribute('class'):\n",
    "        break\n",
    "    else:\n",
    "        driver.execute_script(\"arguments[0].click();\", next_button)"
   ]
  },
  {
   "cell_type": "code",
   "execution_count": 18,
   "id": "0a183868-5b98-4ddd-88b5-fbbd431dacc9",
   "metadata": {},
   "outputs": [
    {
     "ename": "NameError",
     "evalue": "name 'dates' is not defined",
     "output_type": "error",
     "traceback": [
      "\u001b[1;31m---------------------------------------------------------------------------\u001b[0m",
      "\u001b[1;31mNameError\u001b[0m                                 Traceback (most recent call last)",
      "\u001b[1;32m<ipython-input-18-15c23b7b989c>\u001b[0m in \u001b[0;36m<module>\u001b[1;34m\u001b[0m\n\u001b[0;32m      1\u001b[0m \u001b[1;31m# DataFrame oluşturun ve son üç ayın verilerini seçin\u001b[0m\u001b[1;33m\u001b[0m\u001b[1;33m\u001b[0m\u001b[1;33m\u001b[0m\u001b[0m\n\u001b[1;32m----> 2\u001b[1;33m \u001b[0mdf\u001b[0m \u001b[1;33m=\u001b[0m \u001b[0mpd\u001b[0m\u001b[1;33m.\u001b[0m\u001b[0mDataFrame\u001b[0m\u001b[1;33m(\u001b[0m\u001b[1;33m{\u001b[0m\u001b[1;34m'Tarih'\u001b[0m\u001b[1;33m:\u001b[0m \u001b[0mdates\u001b[0m\u001b[1;33m,\u001b[0m \u001b[1;34m'Fiyat'\u001b[0m\u001b[1;33m:\u001b[0m \u001b[0mprices\u001b[0m\u001b[1;33m}\u001b[0m\u001b[1;33m)\u001b[0m\u001b[1;33m\u001b[0m\u001b[1;33m\u001b[0m\u001b[0m\n\u001b[0m\u001b[0;32m      3\u001b[0m \u001b[0mstart_date\u001b[0m \u001b[1;33m=\u001b[0m \u001b[0mpd\u001b[0m\u001b[1;33m.\u001b[0m\u001b[0mTimestamp\u001b[0m\u001b[1;33m.\u001b[0m\u001b[0mtoday\u001b[0m\u001b[1;33m(\u001b[0m\u001b[1;33m)\u001b[0m \u001b[1;33m-\u001b[0m \u001b[0mpd\u001b[0m\u001b[1;33m.\u001b[0m\u001b[0mDateOffset\u001b[0m\u001b[1;33m(\u001b[0m\u001b[0mmonths\u001b[0m\u001b[1;33m=\u001b[0m\u001b[0mmonths\u001b[0m\u001b[1;33m)\u001b[0m\u001b[1;33m\u001b[0m\u001b[1;33m\u001b[0m\u001b[0m\n\u001b[0;32m      4\u001b[0m \u001b[0mend_date\u001b[0m \u001b[1;33m=\u001b[0m \u001b[0mpd\u001b[0m\u001b[1;33m.\u001b[0m\u001b[0mTimestamp\u001b[0m\u001b[1;33m.\u001b[0m\u001b[0mtoday\u001b[0m\u001b[1;33m(\u001b[0m\u001b[1;33m)\u001b[0m\u001b[1;33m\u001b[0m\u001b[1;33m\u001b[0m\u001b[0m\n\u001b[0;32m      5\u001b[0m \u001b[0mdf\u001b[0m \u001b[1;33m=\u001b[0m \u001b[0mdf\u001b[0m\u001b[1;33m.\u001b[0m\u001b[0mloc\u001b[0m\u001b[1;33m[\u001b[0m\u001b[1;33m(\u001b[0m\u001b[0mdf\u001b[0m\u001b[1;33m[\u001b[0m\u001b[1;34m'Tarih'\u001b[0m\u001b[1;33m]\u001b[0m \u001b[1;33m>=\u001b[0m \u001b[0mstart_date\u001b[0m\u001b[1;33m)\u001b[0m \u001b[1;33m&\u001b[0m \u001b[1;33m(\u001b[0m\u001b[0mdf\u001b[0m\u001b[1;33m[\u001b[0m\u001b[1;34m'Tarih'\u001b[0m\u001b[1;33m]\u001b[0m \u001b[1;33m<=\u001b[0m \u001b[0mend_date\u001b[0m\u001b[1;33m)\u001b[0m\u001b[1;33m]\u001b[0m\u001b[1;33m\u001b[0m\u001b[1;33m\u001b[0m\u001b[0m\n",
      "\u001b[1;31mNameError\u001b[0m: name 'dates' is not defined"
     ]
    }
   ],
   "source": [
    "# DataFrame oluşturun ve son üç ayın verilerini seçin\n",
    "df = pd.DataFrame({'Tarih': dates, 'Fiyat': prices})\n",
    "start_date = pd.Timestamp.today() - pd.DateOffset(months=months)\n",
    "end_date = pd.Timestamp.today()\n",
    "df = df.loc[(df['Tarih'] >= start_date) & (df['Tarih'] <= end_date)]\n",
    "\n",
    "# Grafik oluşturun\n",
    "plt.plot(df['Tarih'], df['Fiyat'])\n",
    "plt.title('Son {} Ayın {} Fiyat Takibi'.format(months, product_name))"
   ]
  },
  {
   "cell_type": "code",
   "execution_count": null,
   "id": "bfdaf253-2691-461e-9461-f3664e6f6b3b",
   "metadata": {},
   "outputs": [
    {
     "name": "stdin",
     "output_type": "stream",
     "text": [
      "Please enter the name of the product you want to search:  mama\n"
     ]
    }
   ],
   "source": [
    "import pandas as pd\n",
    "import undetected_chromedriver as uc\n",
    "from selenium.webdriver.common.by import By\n",
    "from selenium.webdriver.common.keys import Keys\n",
    "from selenium.webdriver.support.ui import WebDriverWait\n",
    "from selenium.webdriver.support import expected_conditions as EC\n",
    "import time\n",
    "import matplotlib.pyplot as plt\n",
    "from time import sleep\n",
    "import inspect\n",
    "import os\n",
    "from bs4 import BeautifulSoup\n",
    "import requests\n",
    "\n",
    "\n",
    "# Get the search term and tracking period from the user\n",
    "search_term = input(\"Please enter the name of the product you want to search: \")\n",
    "months =input(\"Please enter the number of months you want to track the product: \")\n",
    "\n",
    "# To ensure that the user enters a non-string value \n",
    "while not months.isdigit():\n",
    "    print(\"Warning: Please enter a valid integer value for the number of months.\")\n",
    "    months = input(\"Please enter the number of months you want to track the product: \")\n",
    "months = int(months)\n",
    "\n",
    "\n",
    "# Start the web driver and go to the Hepsiburada homepage\n",
    "options = uc.ChromeOptions()\n",
    "prefs = {\"profile.default_content_setting_values.notifications\" : 2}\n",
    "options.add_experimental_option(\"prefs\",prefs)\n",
    "driver = uc.Chrome(options=options)\n",
    "\n",
    "url = 'https://www.hepsiburada.com/'\n",
    "driver.get(url)\n",
    "wait = WebDriverWait(driver, 15)\n",
    "\n",
    "# close cookies bar\n",
    "wait.until(EC.element_to_be_clickable((By.ID, 'onetrust-accept-btn-handler'))).click()\n",
    "\n",
    "# Enter the search term in the search box and press Enter\n",
    "search_box = wait.until(EC.element_to_be_clickable((By.CLASS_NAME, 'theme-IYtZzqYPto8PhOx3ku3c')))\n",
    "search_box.send_keys(search_term + Keys.RETURN)\n",
    "\n",
    "# Click on the order button and sort by increasing price\n",
    "wait.until(EC.element_to_be_clickable((By.CLASS_NAME, 'horizontalSortingBar-Ce404X9mUYVCRa5bjV4D'))).click()\n",
    "wait.until(EC.element_to_be_clickable((By.CLASS_NAME, 'horizontalSortingBar-PkoDOH7UsCwBrQaQx9bn'))).click()\n",
    "\n",
    "\n",
    "# load all products\n",
    "number_of_products = int(wait.until(EC.visibility_of_all_elements_located((By.CLASS_NAME, 'searchResultSummaryBar-AVnHBWRNB0_veFy34hco')))[1].text)\n",
    "### visibility_of_all_elements_located is a wait strategy in Selenium that checks if all elements of a certain type are visible on the page and waits until they become visible before continuing.\n",
    "\n",
    "\n",
    "number_of_loaded_products = 0\n",
    "while number_of_loaded_products < number_of_products:\n",
    "    \n",
    "    loaded_products = wait.until(EC.visibility_of_all_elements_located((By.CSS_SELECTOR, 'li[class*=productListContent][id]'))) # select all products\n",
    "    number_of_loaded_products = len(loaded_products)\n",
    "    print(\"number_of_loaded_products\",number_of_loaded_products)\n",
    "    driver.execute_script('arguments[0].scrollIntoView({block: \"center\", behavior: \"smooth\"});', loaded_products[-1])\n",
    "    sleep(3)\n",
    "\n",
    "# Get the link, name, price and seller of all the products\n",
    "product_names  = [h3.text for h3 in driver.find_elements(By.CSS_SELECTOR, 'h3[data-test-id=product-card-name]')]\n",
    "product_urls   = [a.get_attribute('href') for a in driver.find_elements(By.CSS_SELECTOR, 'a[class*=ProductCard]')]\n",
    "product_prices = [div.text for div in driver.find_elements(By.CSS_SELECTOR, 'div[data-test-id=price-current-price]')]\n",
    "product_sellers = []\n",
    "if not product_names:\n",
    "    print(\"Sorry, we could not find the product you were looking for.\")\n",
    "    driver.quit()\n",
    "else:\n",
    "   \n",
    "    for i,url in enumerate(product_urls[:10]):\n",
    "        print(f'search seller names {i+1}/{number_of_loaded_products}', end='\\r')\n",
    "        driver.get(url)\n",
    "        name = wait.until(EC.visibility_of_element_located((By.CSS_SELECTOR, '.seller a'))).text\n",
    "        product_sellers.append(name)\n",
    "\n",
    "    print(f\"Products found: {number_of_loaded_products}     \\n\"+\n",
    "          f\"The product selected from the search results is:\\n\"+\n",
    "          f\"name: {product_names[0]}\\n\"+\n",
    "          f\"price: {product_prices[0]}\\n\"+\n",
    "          f\"seller: {product_sellers[0]}\\n\"+\n",
    "          f\"url: {product_urls[0]}\")\n"
   ]
  },
  {
   "cell_type": "code",
   "execution_count": null,
   "id": "8962e21f-5692-4d56-8552-f7700fe1d8af",
   "metadata": {},
   "outputs": [],
   "source": [
    "number_of_products"
   ]
  },
  {
   "cell_type": "code",
   "execution_count": null,
   "id": "44046251-e396-4789-bab3-cc101d0a734d",
   "metadata": {},
   "outputs": [],
   "source": []
  },
  {
   "cell_type": "code",
   "execution_count": null,
   "id": "42110979-62b7-4221-b08f-045295c6efc3",
   "metadata": {},
   "outputs": [],
   "source": [
    "a"
   ]
  },
  {
   "cell_type": "code",
   "execution_count": 23,
   "id": "8efc8320-fad1-4fd2-afda-e9b80de5172a",
   "metadata": {},
   "outputs": [
    {
     "data": {
      "text/plain": [
       "1"
      ]
     },
     "execution_count": 23,
     "metadata": {},
     "output_type": "execute_result"
    }
   ],
   "source": [
    "number_of_loaded_products\n"
   ]
  },
  {
   "cell_type": "code",
   "execution_count": 33,
   "id": "63d0f568-3c79-4701-9f5e-5c7fd91e1f84",
   "metadata": {},
   "outputs": [
    {
     "data": {
      "text/plain": [
       "[]"
      ]
     },
     "execution_count": 33,
     "metadata": {},
     "output_type": "execute_result"
    }
   ],
   "source": [
    "google_active_view_elements"
   ]
  },
  {
   "cell_type": "code",
   "execution_count": null,
   "id": "c6cba135-11f1-4f8a-bfce-26b3db314868",
   "metadata": {},
   "outputs": [],
   "source": []
  },
  {
   "cell_type": "code",
   "execution_count": null,
   "id": "3e360981-c026-4799-9b02-9d5286734c92",
   "metadata": {},
   "outputs": [],
   "source": []
  },
  {
   "cell_type": "code",
   "execution_count": null,
   "id": "501f2cce-86cc-4091-be0a-b28c89c32f59",
   "metadata": {},
   "outputs": [],
   "source": []
  },
  {
   "cell_type": "code",
   "execution_count": 167,
   "id": "a65af284-806c-4b93-ad93-60d2dbab74ca",
   "metadata": {},
   "outputs": [],
   "source": []
  },
  {
   "cell_type": "code",
   "execution_count": null,
   "id": "165bed98-0da3-4c3f-b182-08a0c2ae85ff",
   "metadata": {},
   "outputs": [],
   "source": []
  },
  {
   "cell_type": "code",
   "execution_count": null,
   "id": "e620bc15-8384-4c33-9278-a4daddcc6b24",
   "metadata": {},
   "outputs": [],
   "source": []
  },
  {
   "cell_type": "code",
   "execution_count": null,
   "id": "7e46dc2c-8212-4e2c-906c-76378d292ff6",
   "metadata": {},
   "outputs": [],
   "source": []
  },
  {
   "cell_type": "code",
   "execution_count": null,
   "id": "9f30a532-8108-42ac-9680-d0c7e3ca03d8",
   "metadata": {},
   "outputs": [],
   "source": []
  }
 ],
 "metadata": {
  "kernelspec": {
   "display_name": "Python 3",
   "language": "python",
   "name": "python3"
  },
  "language_info": {
   "codemirror_mode": {
    "name": "ipython",
    "version": 3
   },
   "file_extension": ".py",
   "mimetype": "text/x-python",
   "name": "python",
   "nbconvert_exporter": "python",
   "pygments_lexer": "ipython3",
   "version": "3.8.8"
  }
 },
 "nbformat": 4,
 "nbformat_minor": 5
}
