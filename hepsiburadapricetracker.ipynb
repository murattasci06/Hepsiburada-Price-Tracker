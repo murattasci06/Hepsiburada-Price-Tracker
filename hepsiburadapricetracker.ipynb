{
 "cells": [
  {
   "cell_type": "code",
   "execution_count": 20,
   "id": "bfdaf253-2691-461e-9461-f3664e6f6b3b",
   "metadata": {},
   "outputs": [
    {
     "name": "stdin",
     "output_type": "stream",
     "text": [
      "Please enter the name of the product you want to search:  pınar süt 1lt\n",
      "Please enter the number of months you want to track the product:  3\n"
     ]
    },
    {
     "name": "stdout",
     "output_type": "stream",
     "text": [
      "Search seller names 35/35\n",
      "The product selected from the search results is:\n",
      "name:   Pınar Denge Laktozsuz Süt 1 L\n",
      "price:  24.5\n",
      "seller: PınarOnline\n",
      "url:    https://www.hepsiburada.com/pinar-denge-laktozsuz-sut-1-l-p-ZYPINAR153103445?magaza=P%C4%B1narOnline\n"
     ]
    },
    {
     "name": "stdin",
     "output_type": "stream",
     "text": [
      "Would you like to save the product data as Excel file? (yes or no):  Yes\n"
     ]
    },
    {
     "name": "stdout",
     "output_type": "stream",
     "text": [
      "The product data has been saved as Excel files.\n"
     ]
    },
    {
     "ename": "NoSuchElementException",
     "evalue": "Message: no such element: Unable to locate element: {\"method\":\"xpath\",\"selector\":\"//a[@class='page-next']\"}\n  (Session info: chrome=110.0.5481.178)\n",
     "output_type": "error",
     "traceback": [
      "\u001b[1;31m---------------------------------------------------------------------------\u001b[0m",
      "\u001b[1;31mNoSuchElementException\u001b[0m                    Traceback (most recent call last)",
      "\u001b[1;32m<ipython-input-20-fd9f52434f4b>\u001b[0m in \u001b[0;36m<module>\u001b[1;34m\u001b[0m\n\u001b[0;32m    142\u001b[0m         \u001b[0mdates\u001b[0m\u001b[1;33m.\u001b[0m\u001b[0mappend\u001b[0m\u001b[1;33m(\u001b[0m\u001b[0mdate\u001b[0m\u001b[1;33m)\u001b[0m\u001b[1;33m\u001b[0m\u001b[1;33m\u001b[0m\u001b[0m\n\u001b[0;32m    143\u001b[0m \u001b[1;33m\u001b[0m\u001b[0m\n\u001b[1;32m--> 144\u001b[1;33m     \u001b[0mnext_button\u001b[0m \u001b[1;33m=\u001b[0m \u001b[0mdriver\u001b[0m\u001b[1;33m.\u001b[0m\u001b[0mfind_element\u001b[0m\u001b[1;33m(\u001b[0m\u001b[0mBy\u001b[0m\u001b[1;33m.\u001b[0m\u001b[0mXPATH\u001b[0m\u001b[1;33m,\u001b[0m \u001b[1;34m\"//a[@class='page-next']\"\u001b[0m\u001b[1;33m)\u001b[0m\u001b[1;33m\u001b[0m\u001b[1;33m\u001b[0m\u001b[0m\n\u001b[0m\u001b[0;32m    145\u001b[0m     \u001b[1;32mif\u001b[0m \u001b[1;34m'disabled'\u001b[0m \u001b[1;32min\u001b[0m \u001b[0mnext_button\u001b[0m\u001b[1;33m.\u001b[0m\u001b[0mget_attribute\u001b[0m\u001b[1;33m(\u001b[0m\u001b[1;34m'class'\u001b[0m\u001b[1;33m)\u001b[0m\u001b[1;33m:\u001b[0m\u001b[1;33m\u001b[0m\u001b[1;33m\u001b[0m\u001b[0m\n\u001b[0;32m    146\u001b[0m         \u001b[1;32mbreak\u001b[0m\u001b[1;33m\u001b[0m\u001b[1;33m\u001b[0m\u001b[0m\n",
      "\u001b[1;32mF:\\Anaconda\\lib\\site-packages\\selenium\\webdriver\\remote\\webdriver.py\u001b[0m in \u001b[0;36mfind_element\u001b[1;34m(self, by, value)\u001b[0m\n\u001b[0;32m    974\u001b[0m                 \u001b[0mby\u001b[0m \u001b[1;33m=\u001b[0m \u001b[0mBy\u001b[0m\u001b[1;33m.\u001b[0m\u001b[0mCSS_SELECTOR\u001b[0m\u001b[1;33m\u001b[0m\u001b[1;33m\u001b[0m\u001b[0m\n\u001b[0;32m    975\u001b[0m                 \u001b[0mvalue\u001b[0m \u001b[1;33m=\u001b[0m \u001b[1;34m'[name=\"%s\"]'\u001b[0m \u001b[1;33m%\u001b[0m \u001b[0mvalue\u001b[0m\u001b[1;33m\u001b[0m\u001b[1;33m\u001b[0m\u001b[0m\n\u001b[1;32m--> 976\u001b[1;33m         return self.execute(Command.FIND_ELEMENT, {\n\u001b[0m\u001b[0;32m    977\u001b[0m             \u001b[1;34m'using'\u001b[0m\u001b[1;33m:\u001b[0m \u001b[0mby\u001b[0m\u001b[1;33m,\u001b[0m\u001b[1;33m\u001b[0m\u001b[1;33m\u001b[0m\u001b[0m\n\u001b[0;32m    978\u001b[0m             'value': value})['value']\n",
      "\u001b[1;32mF:\\Anaconda\\lib\\site-packages\\selenium\\webdriver\\remote\\webdriver.py\u001b[0m in \u001b[0;36mexecute\u001b[1;34m(self, driver_command, params)\u001b[0m\n\u001b[0;32m    319\u001b[0m         \u001b[0mresponse\u001b[0m \u001b[1;33m=\u001b[0m \u001b[0mself\u001b[0m\u001b[1;33m.\u001b[0m\u001b[0mcommand_executor\u001b[0m\u001b[1;33m.\u001b[0m\u001b[0mexecute\u001b[0m\u001b[1;33m(\u001b[0m\u001b[0mdriver_command\u001b[0m\u001b[1;33m,\u001b[0m \u001b[0mparams\u001b[0m\u001b[1;33m)\u001b[0m\u001b[1;33m\u001b[0m\u001b[1;33m\u001b[0m\u001b[0m\n\u001b[0;32m    320\u001b[0m         \u001b[1;32mif\u001b[0m \u001b[0mresponse\u001b[0m\u001b[1;33m:\u001b[0m\u001b[1;33m\u001b[0m\u001b[1;33m\u001b[0m\u001b[0m\n\u001b[1;32m--> 321\u001b[1;33m             \u001b[0mself\u001b[0m\u001b[1;33m.\u001b[0m\u001b[0merror_handler\u001b[0m\u001b[1;33m.\u001b[0m\u001b[0mcheck_response\u001b[0m\u001b[1;33m(\u001b[0m\u001b[0mresponse\u001b[0m\u001b[1;33m)\u001b[0m\u001b[1;33m\u001b[0m\u001b[1;33m\u001b[0m\u001b[0m\n\u001b[0m\u001b[0;32m    322\u001b[0m             response['value'] = self._unwrap_value(\n\u001b[0;32m    323\u001b[0m                 response.get('value', None))\n",
      "\u001b[1;32mF:\\Anaconda\\lib\\site-packages\\selenium\\webdriver\\remote\\errorhandler.py\u001b[0m in \u001b[0;36mcheck_response\u001b[1;34m(self, response)\u001b[0m\n\u001b[0;32m    240\u001b[0m                 \u001b[0malert_text\u001b[0m \u001b[1;33m=\u001b[0m \u001b[0mvalue\u001b[0m\u001b[1;33m[\u001b[0m\u001b[1;34m'alert'\u001b[0m\u001b[1;33m]\u001b[0m\u001b[1;33m.\u001b[0m\u001b[0mget\u001b[0m\u001b[1;33m(\u001b[0m\u001b[1;34m'text'\u001b[0m\u001b[1;33m)\u001b[0m\u001b[1;33m\u001b[0m\u001b[1;33m\u001b[0m\u001b[0m\n\u001b[0;32m    241\u001b[0m             \u001b[1;32mraise\u001b[0m \u001b[0mexception_class\u001b[0m\u001b[1;33m(\u001b[0m\u001b[0mmessage\u001b[0m\u001b[1;33m,\u001b[0m \u001b[0mscreen\u001b[0m\u001b[1;33m,\u001b[0m \u001b[0mstacktrace\u001b[0m\u001b[1;33m,\u001b[0m \u001b[0malert_text\u001b[0m\u001b[1;33m)\u001b[0m\u001b[1;33m\u001b[0m\u001b[1;33m\u001b[0m\u001b[0m\n\u001b[1;32m--> 242\u001b[1;33m         \u001b[1;32mraise\u001b[0m \u001b[0mexception_class\u001b[0m\u001b[1;33m(\u001b[0m\u001b[0mmessage\u001b[0m\u001b[1;33m,\u001b[0m \u001b[0mscreen\u001b[0m\u001b[1;33m,\u001b[0m \u001b[0mstacktrace\u001b[0m\u001b[1;33m)\u001b[0m\u001b[1;33m\u001b[0m\u001b[1;33m\u001b[0m\u001b[0m\n\u001b[0m\u001b[0;32m    243\u001b[0m \u001b[1;33m\u001b[0m\u001b[0m\n\u001b[0;32m    244\u001b[0m     \u001b[1;32mdef\u001b[0m \u001b[0m_value_or_default\u001b[0m\u001b[1;33m(\u001b[0m\u001b[0mself\u001b[0m\u001b[1;33m,\u001b[0m \u001b[0mobj\u001b[0m\u001b[1;33m,\u001b[0m \u001b[0mkey\u001b[0m\u001b[1;33m,\u001b[0m \u001b[0mdefault\u001b[0m\u001b[1;33m)\u001b[0m\u001b[1;33m:\u001b[0m\u001b[1;33m\u001b[0m\u001b[1;33m\u001b[0m\u001b[0m\n",
      "\u001b[1;31mNoSuchElementException\u001b[0m: Message: no such element: Unable to locate element: {\"method\":\"xpath\",\"selector\":\"//a[@class='page-next']\"}\n  (Session info: chrome=110.0.5481.178)\n"
     ]
    }
   ],
   "source": [
    "import pandas as pd\n",
    "import undetected_chromedriver as uc\n",
    "from selenium.webdriver.common.by import By\n",
    "from selenium.webdriver.common.keys import Keys\n",
    "from selenium.webdriver.support.ui import WebDriverWait\n",
    "from selenium.webdriver.support import expected_conditions as EC\n",
    "import time\n",
    "import matplotlib.pyplot as plt\n",
    "from time import sleep\n",
    "import inspect\n",
    "import os\n",
    "from bs4 import BeautifulSoup\n",
    "import requests\n",
    "\n",
    "\n",
    "# Get the search term and tracking period from the user\n",
    "search_term = input(\"Please enter the name of the product you want to search: \")\n",
    "months =input(\"Please enter the number of months you want to track the product: \")\n",
    "\n",
    "# To ensure that the user enters a non-string value \n",
    "while not months.isdigit():\n",
    "    print(\"Warning: Please enter a valid integer value for the number of months.\")\n",
    "    months = input(\"Please enter the number of months you want to track the product: \")\n",
    "months = int(months)\n",
    "\n",
    "\n",
    "# Start the web driver and go to the Hepsiburada homepage\n",
    "options = uc.ChromeOptions()\n",
    "options.add_argument('--blink-settings=imagesEnabled=false') # disable images for loading of page faster\n",
    "options.add_argument('--disable-notifications')\n",
    "prefs = {\"profile.default_content_setting_values.notifications\" : 2}\n",
    "options.add_experimental_option(\"prefs\",prefs)\n",
    "driver = uc.Chrome(options=options)\n",
    "\n",
    "url = 'https://www.hepsiburada.com/'\n",
    "driver.get(url)\n",
    "wait = WebDriverWait(driver, 15)\n",
    "\n",
    "# close cookies bar\n",
    "wait.until(EC.element_to_be_clickable((By.ID, 'onetrust-accept-btn-handler'))).click()\n",
    "\n",
    "# Enter the search term in the search box and press Enter\n",
    "search_box = wait.until(EC.element_to_be_clickable((By.CLASS_NAME, 'theme-IYtZzqYPto8PhOx3ku3c')))\n",
    "search_box.send_keys(search_term + Keys.RETURN)\n",
    "\n",
    "\n",
    "\n",
    "# load all products\n",
    "number_of_products = int(wait.until(EC.visibility_of_all_elements_located((By.CLASS_NAME, 'searchResultSummaryBar-AVnHBWRNB0_veFy34hco')))[1].text)\n",
    "### visibility_of_all_elements_located is a wait strategy in Selenium that checks if all elements of a certain type are visible on the page and waits until they become visible before continuing.\n",
    "\n",
    "\n",
    "number_of_loaded_products = 0\n",
    "while number_of_loaded_products < number_of_products:\n",
    "    loaded_products = wait.until(EC.visibility_of_all_elements_located((By.CSS_SELECTOR, 'li[class*=productListContent][id]')))\n",
    "    number_of_loaded_products = len(loaded_products)\n",
    "    driver.execute_script('arguments[0].scrollIntoView({block: \"center\", behavior: \"smooth\"});', loaded_products[-1])\n",
    "\n",
    "# Get the link, name, price and seller of all the products\n",
    "product = {key:[] for key in ['name','price','seller','url']}\n",
    "product['name']  = [h3.text for h3 in driver.find_elements(By.CSS_SELECTOR, 'h3[data-test-id=product-card-name]')]\n",
    "product['url']   = [a.get_attribute('href') for a in driver.find_elements(By.CSS_SELECTOR, 'a[class*=ProductCard]')]\n",
    "product['price'] = [float(div.text.replace('TL','').replace(',','.')) for div in driver.find_elements(By.CSS_SELECTOR, 'div[data-test-id=price-current-price]')]\n",
    "for i,url in enumerate(product['url']):\n",
    "    print(f'Search seller names {i+1}/{number_of_loaded_products}', end='\\r')\n",
    "    driver.get(url)\n",
    "    product['seller'] += [wait.until(EC.visibility_of_element_located((By.CSS_SELECTOR, '.seller a'))).text]\n",
    "    product['url'][i] = driver.current_url # useful to replace some long urls\n",
    "    \n",
    "# Sort by price in ascending order\n",
    "import pandas as pd\n",
    "product_list = pd.DataFrame(product).sort_values(by='price').to_dict('list')\n",
    "\n",
    "print(f\"\\nThe product selected from the search results is:\"+\n",
    "      f\"\\nname:   {product_list['name'][0]}\"+\n",
    "      f\"\\nprice:  {product_list['price'][0]}\"+\n",
    "      f\"\\nseller: {product_list['seller'][0]}\"+\n",
    "      f\"\\nurl:    {product_list['url'][0]}\")\n",
    "    \n",
    " \n",
    "product = pd.DataFrame(product).sort_values(by='price')\n",
    "while True:\n",
    "    save_option = input(\"Would you like to save the product data as Excel file? (yes or no): \").lower()\n",
    "    if save_option == 'yes':\n",
    "        product.to_excel('product_data.xlsx', index=False)\n",
    "        print(\"The product data has been saved as Excel files.\")\n",
    "        break\n",
    "    elif save_option == 'no':\n",
    "        print(\"The product data will not be saved.\")\n",
    "        break\n",
    "    else:\n",
    "        print(\"Please enter a valid input (yes or no).\")\n",
    "\n",
    "\n",
    "\n",
    "# Seçilen ürün sayfasına gidin\n",
    "driver.get(product_list['url'][0])\n",
    "\n",
    "# Fiyatları alın\n",
    "prices = []\n",
    "dates = []\n",
    "while len(prices) < months:\n",
    "    price_elems = driver.find_elements(By.XPATH, \"//div[@class='price-area']//strong[@itemprop='price']\")\n",
    "    date_elems = driver.find_elements(By.XPATH, \"//div[@class='product-info']//span[@class='product-info-date']\")\n",
    "    \n",
    "    for price_elem, date_elem in zip(price_elems, date_elems):\n",
    "        price = float(price_elem.text.replace('.', '').replace(',', '.'))\n",
    "        date = pd.to_datetime(date_elem.text, format='%d %B %Y')\n",
    "        prices.append(price)\n",
    "        dates.append(date)\n",
    "        \n",
    "    next_button = driver.find_element(By.XPATH, \"//a[@class='page-next']\")\n",
    "    if 'disabled' in next_button.get_attribute('class'):\n",
    "        break\n",
    "    else:\n",
    "        driver.execute_script(\"arguments[0].click();\", next_button)\n",
    "        \n",
    "\n",
    "# DataFrame oluşturun ve son üç ayın verilerini seçin\n",
    "df = pd.DataFrame({'Tarih': dates, 'Fiyat': prices})\n",
    "start_date = pd.Timestamp.today() - pd.DateOffset(months=months)\n",
    "end_date = pd.Timestamp.today()\n",
    "df = df.loc[(df['Tarih'] >= start_date) & (df['Tarih'] <= end_date)]\n",
    "\n",
    "# Grafik oluşturun\n",
    "plt.plot(df['Tarih'], df['Fiyat')\n",
    "plt.title('Son {} Ayın {} Fiyat Takibi'.format(months, product_name))\n"
   ]
  },
  {
   "cell_type": "code",
   "execution_count": null,
   "id": "8962e21f-5692-4d56-8552-f7700fe1d8af",
   "metadata": {},
   "outputs": [],
   "source": [
    "\n",
    "\n"
   ]
  },
  {
   "cell_type": "code",
   "execution_count": null,
   "id": "44046251-e396-4789-bab3-cc101d0a734d",
   "metadata": {},
   "outputs": [],
   "source": []
  },
  {
   "cell_type": "code",
   "execution_count": null,
   "id": "42110979-62b7-4221-b08f-045295c6efc3",
   "metadata": {},
   "outputs": [],
   "source": []
  },
  {
   "cell_type": "code",
   "execution_count": null,
   "id": "8efc8320-fad1-4fd2-afda-e9b80de5172a",
   "metadata": {},
   "outputs": [],
   "source": []
  },
  {
   "cell_type": "code",
   "execution_count": null,
   "id": "63d0f568-3c79-4701-9f5e-5c7fd91e1f84",
   "metadata": {},
   "outputs": [],
   "source": []
  },
  {
   "cell_type": "code",
   "execution_count": null,
   "id": "c6cba135-11f1-4f8a-bfce-26b3db314868",
   "metadata": {},
   "outputs": [],
   "source": []
  },
  {
   "cell_type": "code",
   "execution_count": null,
   "id": "3e360981-c026-4799-9b02-9d5286734c92",
   "metadata": {},
   "outputs": [],
   "source": []
  },
  {
   "cell_type": "code",
   "execution_count": null,
   "id": "501f2cce-86cc-4091-be0a-b28c89c32f59",
   "metadata": {},
   "outputs": [],
   "source": []
  },
  {
   "cell_type": "code",
   "execution_count": 167,
   "id": "a65af284-806c-4b93-ad93-60d2dbab74ca",
   "metadata": {},
   "outputs": [],
   "source": []
  },
  {
   "cell_type": "code",
   "execution_count": null,
   "id": "165bed98-0da3-4c3f-b182-08a0c2ae85ff",
   "metadata": {},
   "outputs": [],
   "source": []
  },
  {
   "cell_type": "code",
   "execution_count": null,
   "id": "e620bc15-8384-4c33-9278-a4daddcc6b24",
   "metadata": {},
   "outputs": [],
   "source": []
  },
  {
   "cell_type": "code",
   "execution_count": null,
   "id": "7e46dc2c-8212-4e2c-906c-76378d292ff6",
   "metadata": {},
   "outputs": [],
   "source": []
  },
  {
   "cell_type": "code",
   "execution_count": null,
   "id": "9f30a532-8108-42ac-9680-d0c7e3ca03d8",
   "metadata": {},
   "outputs": [],
   "source": []
  }
 ],
 "metadata": {
  "kernelspec": {
   "display_name": "Python 3",
   "language": "python",
   "name": "python3"
  },
  "language_info": {
   "codemirror_mode": {
    "name": "ipython",
    "version": 3
   },
   "file_extension": ".py",
   "mimetype": "text/x-python",
   "name": "python",
   "nbconvert_exporter": "python",
   "pygments_lexer": "ipython3",
   "version": "3.8.8"
  }
 },
 "nbformat": 4,
 "nbformat_minor": 5
}
